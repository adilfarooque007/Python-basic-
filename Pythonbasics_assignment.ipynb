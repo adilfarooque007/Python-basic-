{
  "nbformat": 4,
  "nbformat_minor": 0,
  "metadata": {
    "colab": {
      "provenance": []
    },
    "kernelspec": {
      "name": "python3",
      "display_name": "Python 3"
    },
    "language_info": {
      "name": "python"
    }
  },
  "cells": [
    {
      "cell_type": "markdown",
      "source": [
        "Python basic"
      ],
      "metadata": {
        "id": "fmkXwbAJ9RkH"
      }
    },
    {
      "cell_type": "markdown",
      "source": [],
      "metadata": {
        "id": "RoX2luiqJ5ji"
      }
    },
    {
      "cell_type": "markdown",
      "source": [
        "1. What is Python, and why is it popular ?\n",
        "   - python is a general-purpose programming language created by Guido van Rossum in the 1980s. It is incredibly versatile, flexible, and beginner-friendly.\n",
        "   it is popular because it is easy to learn,it has an active and supportive community,it is flexxible etc.\n",
        "\n",
        "2. What is an interpreter in Python ?\n",
        "   - It is a computer programme which translate python code into machine code so that computer can understand it.\n",
        "\n",
        "3. What are pre-defined keywords in Python ?\n",
        "   - predefined keywords are the keywords that have special meaning in programming language andcannot be used as any identifiers. example= if, else, not, is etc.\n",
        "\n",
        "4. Can keywords be used as variable names ?\n",
        "   - No, keywords cannot be as a variable name because it have seperate function which they can only do.\n",
        "\n",
        "5. What is mutability in Python ?\n",
        "   - mutability in python is an ability to changing an object without creating  \n",
        "   a new one is known as mutable.\n",
        "\n",
        "6. Why are lists mutable, but tuples are immutable ?\n",
        "   - Tuples use parenthesis and in list we can use square bracket. tuples have not ability to change or modify but list have this changing and modication ability thats why we say tuple is not mutable and list is mutable.\n",
        "\n",
        "7. What is the difference between “==” and “is” operators in Python ?\n",
        "   - == Operator used To compare objects based on their values.\n",
        "   \"is\" operator are used to compare objects based on their identity.\n",
        "\n",
        "8. What are logical operators in Python ?\n",
        "   - In python there are three types of logical operator ,\n",
        "   and, or, not. \"And\" operator returns true only when all condition sattisfy, \"Or\" operator returns true even one condition sattisfy and \"Not\" operator inverts the results.\n",
        "\n",
        "9. What is type casting in Python ?\n",
        "   - Simple meaning of type casting is \"Datatype changing\" and also known as type conversion . its is the process where we can convert one datatype to another.\n",
        "\n",
        "10. What is the difference between implicit and explicit type casting ?\n",
        "    - a process where a compiler automatically converts one data type to another without any explicit instructions from the programmer its called emplicit type casting .\n",
        "    - a programming technique that allows a user to manually convert a value from one data type to another is called explicit type casting.\n",
        "\n",
        "11. What is the purpose of conditional statements in Python ?\n",
        "    - Conditional statements in Python are used to control the flow of code execution based on certain conditions.\n",
        "\n",
        "12. How does the elif statement work ?\n",
        "    - it is used when the first if statement isn't true, but you want to check for another condition\n",
        "\n",
        "13. What is the difference between for and while loops ?\n",
        "    - a for loop is used when you know how many times to repeat a block of code, while a while loop is used when you don't.\n",
        "\n",
        "14.  Describe a scenario where a while loop is more suitable than a for loop ?\n",
        "    - in contrast to a 'for' loop, which is generally used when the number of iterations is known beforehand, a 'while' loop is ideal for situations where the number of iterations is not predetermined and depends on some dynamic condition.         \n",
        "\n",
        "\n",
        "\n",
        "\n",
        "  \n"
      ],
      "metadata": {
        "id": "BTfOFTg79ctc"
      }
    },
    {
      "cell_type": "code",
      "execution_count": 6,
      "metadata": {
        "colab": {
          "base_uri": "https://localhost:8080/"
        },
        "id": "ekwxSAP78Wy6",
        "outputId": "a1878161-7920-4243-e20b-77e465da1e3d"
      },
      "outputs": [
        {
          "output_type": "stream",
          "name": "stdout",
          "text": [
            "hello, world!\n"
          ]
        }
      ],
      "source": [
        "# Q1. Write a Python program to print \"Hello, World!\"\n",
        "\n",
        "\n",
        "print(\"hello, world!\")"
      ]
    },
    {
      "cell_type": "code",
      "source": [
        "# Q2. Write a Python program that displays your name and age.\n",
        "\n",
        "a=input(\"Enter your name : \")\n",
        "b=input(\"Enter your age : \")"
      ],
      "metadata": {
        "colab": {
          "base_uri": "https://localhost:8080/"
        },
        "id": "A1r-daPAXb4T",
        "outputId": "1975aa9e-1580-409e-82cb-5feebd099191"
      },
      "execution_count": 3,
      "outputs": [
        {
          "name": "stdout",
          "output_type": "stream",
          "text": [
            "Enter your name : adil farooque\n",
            "Enter your age : 23\n"
          ]
        }
      ]
    },
    {
      "cell_type": "code",
      "source": [
        "# Q3. Write code to print all the pre-defined keywords in Python using the keyword library.\n",
        "\n",
        "help(\"keywords\")"
      ],
      "metadata": {
        "colab": {
          "base_uri": "https://localhost:8080/"
        },
        "id": "Nal_cUGbXb00",
        "outputId": "d29da6e3-2b6b-4095-b76c-d04e089c212b"
      },
      "execution_count": 5,
      "outputs": [
        {
          "output_type": "stream",
          "name": "stdout",
          "text": [
            "\n",
            "Here is a list of the Python keywords.  Enter any keyword to get more help.\n",
            "\n",
            "False               class               from                or\n",
            "None                continue            global              pass\n",
            "True                def                 if                  raise\n",
            "and                 del                 import              return\n",
            "as                  elif                in                  try\n",
            "assert              else                is                  while\n",
            "async               except              lambda              with\n",
            "await               finally             nonlocal            yield\n",
            "break               for                 not                 \n",
            "\n"
          ]
        }
      ]
    },
    {
      "cell_type": "code",
      "source": [
        "# Q4. Write a program that checks if a given word is a Python keyword\n",
        "\n",
        "import keyword\n",
        "list_k=[\"def\",\"True\",\"dam\"]\n",
        "for i in list_k:\n",
        "  if keyword.iskeyword(i):\n",
        "    print(\"predefined function\")\n",
        "  else:\n",
        "    print(\"something else\")\n",
        ""
      ],
      "metadata": {
        "colab": {
          "base_uri": "https://localhost:8080/"
        },
        "id": "Cyfrg9L6YWsZ",
        "outputId": "b83eab44-8b87-4b75-a6d5-990fa6bfaf0c"
      },
      "execution_count": 7,
      "outputs": [
        {
          "output_type": "stream",
          "name": "stdout",
          "text": [
            "predefined function\n",
            "predefined function\n",
            "something else\n"
          ]
        }
      ]
    },
    {
      "cell_type": "code",
      "source": [
        "# Q5. Create a list and tuple in Python, and demonstrate how attempting to change an element works differently for each.\n",
        "\n",
        "my_list=[\"2\",\"2\",\"3\",\"4\"]\n",
        "my_list[0]=1\n",
        "print(my_list)               # \"list\" is mutable because its objects are modify after creation.\n",
        "my_tuple=(\"1\",\"2\",\"3\",\"3\")\n",
        "my_tuple[3]=4\n",
        "print(my_tuple)              # \"tuple\" is immutable because once it create then cant be modify, its give error.\n",
        "\n"
      ],
      "metadata": {
        "colab": {
          "base_uri": "https://localhost:8080/",
          "height": 228
        },
        "id": "7Mu-cX_TVvSw",
        "outputId": "76bae9b4-6f05-4e5d-8787-ae0bfa5cc844"
      },
      "execution_count": 2,
      "outputs": [
        {
          "output_type": "stream",
          "name": "stdout",
          "text": [
            "[1, '2', '3', '4']\n"
          ]
        },
        {
          "output_type": "error",
          "ename": "TypeError",
          "evalue": "'tuple' object does not support item assignment",
          "traceback": [
            "\u001b[0;31m---------------------------------------------------------------------------\u001b[0m",
            "\u001b[0;31mTypeError\u001b[0m                                 Traceback (most recent call last)",
            "\u001b[0;32m<ipython-input-2-7c389ad58235>\u001b[0m in \u001b[0;36m<cell line: 7>\u001b[0;34m()\u001b[0m\n\u001b[1;32m      5\u001b[0m \u001b[0mprint\u001b[0m\u001b[0;34m(\u001b[0m\u001b[0mmy_list\u001b[0m\u001b[0;34m)\u001b[0m               \u001b[0;31m# \"list\" is mutable because its objects are modify after creation.\u001b[0m\u001b[0;34m\u001b[0m\u001b[0;34m\u001b[0m\u001b[0m\n\u001b[1;32m      6\u001b[0m \u001b[0mmy_tuple\u001b[0m\u001b[0;34m=\u001b[0m\u001b[0;34m(\u001b[0m\u001b[0;34m\"1\"\u001b[0m\u001b[0;34m,\u001b[0m\u001b[0;34m\"2\"\u001b[0m\u001b[0;34m,\u001b[0m\u001b[0;34m\"3\"\u001b[0m\u001b[0;34m,\u001b[0m\u001b[0;34m\"3\"\u001b[0m\u001b[0;34m)\u001b[0m\u001b[0;34m\u001b[0m\u001b[0;34m\u001b[0m\u001b[0m\n\u001b[0;32m----> 7\u001b[0;31m \u001b[0mmy_tuple\u001b[0m\u001b[0;34m[\u001b[0m\u001b[0;36m3\u001b[0m\u001b[0;34m]\u001b[0m\u001b[0;34m=\u001b[0m\u001b[0;36m4\u001b[0m\u001b[0;34m\u001b[0m\u001b[0;34m\u001b[0m\u001b[0m\n\u001b[0m\u001b[1;32m      8\u001b[0m \u001b[0mprint\u001b[0m\u001b[0;34m(\u001b[0m\u001b[0mmy_tuple\u001b[0m\u001b[0;34m)\u001b[0m              \u001b[0;31m# \"tuple\" is immutable because once it create then cant be modify, its give error.\u001b[0m\u001b[0;34m\u001b[0m\u001b[0;34m\u001b[0m\u001b[0m\n\u001b[1;32m      9\u001b[0m \u001b[0;34m\u001b[0m\u001b[0m\n",
            "\u001b[0;31mTypeError\u001b[0m: 'tuple' object does not support item assignment"
          ]
        }
      ]
    },
    {
      "cell_type": "code",
      "source": [
        "# Q6. Write a function to demonstrate the behavior of mutable and immutable arguments.\n",
        "\n",
        "def modify_arg(mutable_arg,immutable_arg):\n",
        "    print(\"mutable_arg\")\n",
        "    print(\"immutable_arg\")\n",
        "    mutable_arg[0]=1\n",
        "    immutable_arg[0]=1\n",
        "list_m=[2,2,3,4]\n",
        "tuple_m=[2,2,3,4]\n",
        "\n",
        "modify_arg(list_m,tuple_m)"
      ],
      "metadata": {
        "colab": {
          "base_uri": "https://localhost:8080/"
        },
        "id": "zANvMiRQV1Cq",
        "outputId": "af91da6e-adbd-46d9-a128-74510b6583b8"
      },
      "execution_count": 3,
      "outputs": [
        {
          "output_type": "stream",
          "name": "stdout",
          "text": [
            "mutable_arg\n",
            "immutable_arg\n"
          ]
        }
      ]
    },
    {
      "cell_type": "code",
      "source": [
        " # Q7. Write a function to demonstrate the behavior of mutable and immutable arguments.\n",
        "\n",
        "def modify_arg(mutable_arg,immutable_arg):\n",
        "    print(\"mutable_arg\")\n",
        "    print(\"immutable_arg\")\n",
        "    mutable_arg[0]=1\n",
        "    immutable_arg[0]=1\n",
        "list_m=[2,2,3,4]\n",
        "tuple_m=[2,2,3,4]\n",
        "\n",
        "modify_arg(list_m,tuple_m)"
      ],
      "metadata": {
        "colab": {
          "base_uri": "https://localhost:8080/"
        },
        "id": "Mu5d-svAV2sP",
        "outputId": "e8d64e78-b1c7-41f0-8fbb-12fc68d7d896"
      },
      "execution_count": 29,
      "outputs": [
        {
          "output_type": "stream",
          "name": "stdout",
          "text": [
            "mutable_arg\n",
            "immutable_arg\n"
          ]
        }
      ]
    },
    {
      "cell_type": "code",
      "source": [
        "# Q8.Write a program to demonstrate the use of logical operators\n",
        "\n",
        "A=10\n",
        "B=15\n",
        "C=20\n",
        "D=20\n",
        "print(A>B and A>C)     # \"and\" operator return true if all condition sattisfied.\n",
        "print(B<A or B<C)      # \"or\"  operator return true even one condition sattified.\n",
        "if not (C>D):          # \"not\" operator inverts the results.\n",
        "  print(\"true\")\n",
        "else:\n",
        "  print(\"false\")\n",
        "\n",
        "\n",
        ""
      ],
      "metadata": {
        "colab": {
          "base_uri": "https://localhost:8080/"
        },
        "id": "mMax9M-fVm4r",
        "outputId": "2fa089e3-62d9-4bd3-d45f-a3e59d3e37e6"
      },
      "execution_count": 13,
      "outputs": [
        {
          "output_type": "stream",
          "name": "stdout",
          "text": [
            "False\n",
            "True\n",
            "true\n"
          ]
        }
      ]
    },
    {
      "cell_type": "code",
      "source": [
        "# Q9. Write a Python program to convert user input from string to integer, float, and boolean types.\n",
        "\n",
        "a=str(input(\"Enter a string : \"))\n",
        "b=int(input(\"Enter a integer : \"))\n",
        "print(type(a))\n",
        "print(type(b))\n",
        "print(int(a)+b)                      #converting string to integer.\n",
        "print(type(int(a)))                  #value of string \"a\" after type casting to integer.\n",
        "\n",
        "\n",
        "c=float(input(\"Enter a float : \"))      #accepting a float\n",
        "print(type(c))\n",
        "print(float(a)+c)                    #convert string to float.\n",
        "print(type(float(a)))                #value of string \"a\" after type casting to float.\n",
        "\n",
        "\n",
        "print(bool(a))                       #convert string to boolean.\n",
        "print(type(bool(a)))\n"
      ],
      "metadata": {
        "colab": {
          "base_uri": "https://localhost:8080/"
        },
        "id": "CiCemmiNYWo-",
        "outputId": "ade41659-8beb-488c-c264-5102733a7078"
      },
      "execution_count": 28,
      "outputs": [
        {
          "output_type": "stream",
          "name": "stdout",
          "text": [
            "Enter a string : 12\n",
            "Enter a integer : 2\n",
            "<class 'str'>\n",
            "<class 'int'>\n",
            "14\n",
            "<class 'int'>\n",
            "Enter a float : 2.5\n",
            "<class 'float'>\n",
            "14.5\n",
            "<class 'float'>\n",
            "True\n",
            "<class 'bool'>\n"
          ]
        }
      ]
    },
    {
      "cell_type": "code",
      "source": [
        "# Q10. Write code to demonstrate type casting with list elements.\n",
        "\n",
        "list_cont=[1,2.5,\"adil\",True]\n",
        "print((type(list_cont[0])))               # checking the 0 index of list_cont\n",
        "print((str(list_cont[0])))                # Type casting of 0 index of list_cont\n",
        "print(type(str(list_cont[0])))            # Now check 0 index of list_cont."
      ],
      "metadata": {
        "colab": {
          "base_uri": "https://localhost:8080/"
        },
        "id": "PHNBy1jDYWmt",
        "outputId": "557a2e68-1d4c-450b-e426-266badf39e06"
      },
      "execution_count": 47,
      "outputs": [
        {
          "output_type": "stream",
          "name": "stdout",
          "text": [
            "<class 'int'>\n",
            "1\n",
            "<class 'str'>\n",
            "<class 'bool'>\n"
          ]
        }
      ]
    },
    {
      "cell_type": "code",
      "source": [
        "# Q11.  Write a program that checks if a number is positive, negative, or zero.\n",
        "\n",
        "a=float(input(\"Enter a number\"))\n",
        "if a > 0:\n",
        "    print(\"Its a positive number\")\n",
        "elif(a < 0):\n",
        "    print(\"Its a negative number\")\n",
        "else:\n",
        "    print(\"Its a zero\")\n"
      ],
      "metadata": {
        "colab": {
          "base_uri": "https://localhost:8080/"
        },
        "id": "Lt5BSQ78YWkd",
        "outputId": "03139ca3-5e93-4d3f-e967-2879f5585a78"
      },
      "execution_count": 10,
      "outputs": [
        {
          "output_type": "stream",
          "name": "stdout",
          "text": [
            "Enter a number-1\n",
            "Its a negative number\n"
          ]
        }
      ]
    },
    {
      "cell_type": "code",
      "source": [
        "# Q12.  Write a for loop to print numbers from 1 to 10.\n",
        "\n",
        "for i in range(1,11):\n",
        "  print(i)"
      ],
      "metadata": {
        "colab": {
          "base_uri": "https://localhost:8080/"
        },
        "id": "iRGsU-ehYWi1",
        "outputId": "01a8fd21-f49e-4964-8856-c6270299d630"
      },
      "execution_count": 13,
      "outputs": [
        {
          "output_type": "stream",
          "name": "stdout",
          "text": [
            "1\n",
            "2\n",
            "3\n",
            "4\n",
            "5\n",
            "6\n",
            "7\n",
            "8\n",
            "9\n",
            "10\n"
          ]
        }
      ]
    },
    {
      "cell_type": "code",
      "source": [
        "# Q13. Write a Python program to find the sum of all even numbers between 1 and 50.\n",
        "\n",
        "sum=0\n",
        "for i in range(1,50):\n",
        "  if(i%2==0):\n",
        "    sum=sum+i\n",
        "print(sum)\n"
      ],
      "metadata": {
        "colab": {
          "base_uri": "https://localhost:8080/"
        },
        "id": "fS-lneAGXafd",
        "outputId": "cb5a05c2-5e44-48ba-ca51-69c4ff8dd1b1"
      },
      "execution_count": 18,
      "outputs": [
        {
          "output_type": "stream",
          "name": "stdout",
          "text": [
            "600\n"
          ]
        }
      ]
    },
    {
      "cell_type": "code",
      "source": [
        "# Q14. Write a program to reverse a string using a while loop.\n",
        "\n",
        "string=\"farooq\"\n",
        "reversed_s=\"\"\n",
        "index=len(string)-1\n",
        "while index >=0:\n",
        "  reversed_s += string[index]\n",
        "  index-=1\n",
        "print(reversed_s)"
      ],
      "metadata": {
        "colab": {
          "base_uri": "https://localhost:8080/"
        },
        "id": "RgPlGwY1XQGq",
        "outputId": "d1083463-d0b5-40f3-ce6f-4af2771fe661"
      },
      "execution_count": 1,
      "outputs": [
        {
          "output_type": "stream",
          "name": "stdout",
          "text": [
            "qooraf\n"
          ]
        }
      ]
    },
    {
      "cell_type": "code",
      "source": [
        "# Q15. Write a Python program to calculate the factorial of a number provided by the user using a while loop.\n",
        "\n",
        "fact=1\n",
        "n=int(input(\"Enter number : \"))\n",
        "i=1\n",
        "while i<=n:\n",
        "    fact=fact*i\n",
        "    print(\"Factorial of the given number is: \",fact)\n",
        "    i=i+1"
      ],
      "metadata": {
        "colab": {
          "base_uri": "https://localhost:8080/"
        },
        "id": "QNulbJizCm0p",
        "outputId": "a486651a-a157-4fed-9c51-99dfaa49a695"
      },
      "execution_count": 3,
      "outputs": [
        {
          "output_type": "stream",
          "name": "stdout",
          "text": [
            "Enter number : 5\n",
            "Factorial of the given number is:  1\n",
            "Factorial of the given number is:  2\n",
            "Factorial of the given number is:  6\n",
            "Factorial of the given number is:  24\n",
            "Factorial of the given number is:  120\n"
          ]
        }
      ]
    },
    {
      "cell_type": "code",
      "source": [],
      "metadata": {
        "id": "YBYw7dktCmIw"
      },
      "execution_count": null,
      "outputs": []
    }
  ]
}